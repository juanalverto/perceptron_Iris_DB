{
  "nbformat": 4,
  "nbformat_minor": 0,
  "metadata": {
    "colab": {
      "name": "Practica_perceptron.ipynb",
      "provenance": [],
      "collapsed_sections": [],
      "include_colab_link": true
    },
    "kernelspec": {
      "name": "python3",
      "display_name": "Python 3"
    }
  },
  "cells": [
    {
      "cell_type": "markdown",
      "metadata": {
        "id": "view-in-github",
        "colab_type": "text"
      },
      "source": [
        "<a href=\"https://colab.research.google.com/github/juanalverto/perceptron_Iris_DB/blob/main/Practica_perceptron.ipynb\" target=\"_parent\"><img src=\"https://colab.research.google.com/assets/colab-badge.svg\" alt=\"Open In Colab\"/></a>"
      ]
    },
    {
      "cell_type": "markdown",
      "metadata": {
        "id": "ByjoJ-gE1Bkj"
      },
      "source": [
        "# **Iris dataset**"
      ]
    },
    {
      "cell_type": "markdown",
      "metadata": {
        "id": "62XIgfMd1PwW"
      },
      "source": [
        "Vamos a descargar la base de datos Iris del repositorio UCI Machine Learning Repository. Almacenaremos la base de datos en un objeto Dataframe y con el método tail() vamos a imprimir las últimas 5 líneas, con el objetivo de cerciorarnos que la base de datos se cargó correctamente."
      ]
    },
    {
      "cell_type": "code",
      "metadata": {
        "id": "4tOHivk60nmT",
        "colab": {
          "base_uri": "https://localhost:8080/",
          "height": 272
        },
        "outputId": "d3f04949-e6c6-4747-b097-a8359ee1c9d9"
      },
      "source": [
        "import os #Sirve para hacer referencia a ubicaciones en nuestro sistema\n",
        "import pandas as pd #Sirve para manipular bases de datos. pd es un alias que significa pandas\n",
        "\n",
        "s = 'https://archive.ics.uci.edu/ml/machine-learning-databases/iris/iris.data'\n",
        "print(\"URL: \", s)\n",
        "\n",
        "df = pd.read_csv(s, header = None, encoding= 'utf-8')\n",
        "#csv -> comma separated values\n",
        "\n",
        "print(df)"
      ],
      "execution_count": null,
      "outputs": [
        {
          "output_type": "stream",
          "text": [
            "URL:  https://archive.ics.uci.edu/ml/machine-learning-databases/iris/iris.data\n",
            "       0    1    2    3               4\n",
            "0    5.1  3.5  1.4  0.2     Iris-setosa\n",
            "1    4.9  3.0  1.4  0.2     Iris-setosa\n",
            "2    4.7  3.2  1.3  0.2     Iris-setosa\n",
            "3    4.6  3.1  1.5  0.2     Iris-setosa\n",
            "4    5.0  3.6  1.4  0.2     Iris-setosa\n",
            "..   ...  ...  ...  ...             ...\n",
            "145  6.7  3.0  5.2  2.3  Iris-virginica\n",
            "146  6.3  2.5  5.0  1.9  Iris-virginica\n",
            "147  6.5  3.0  5.2  2.0  Iris-virginica\n",
            "148  6.2  3.4  5.4  2.3  Iris-virginica\n",
            "149  5.9  3.0  5.1  1.8  Iris-virginica\n",
            "\n",
            "[150 rows x 5 columns]\n"
          ],
          "name": "stdout"
        }
      ]
    },
    {
      "cell_type": "code",
      "metadata": {
        "id": "YiE4iHx54VIa",
        "colab": {
          "base_uri": "https://localhost:8080/",
          "height": 204
        },
        "outputId": "c7fd71c3-b443-4a0a-917e-eb749e5e0e61"
      },
      "source": [
        "df.tail()"
      ],
      "execution_count": null,
      "outputs": [
        {
          "output_type": "execute_result",
          "data": {
            "text/html": [
              "<div>\n",
              "<style scoped>\n",
              "    .dataframe tbody tr th:only-of-type {\n",
              "        vertical-align: middle;\n",
              "    }\n",
              "\n",
              "    .dataframe tbody tr th {\n",
              "        vertical-align: top;\n",
              "    }\n",
              "\n",
              "    .dataframe thead th {\n",
              "        text-align: right;\n",
              "    }\n",
              "</style>\n",
              "<table border=\"1\" class=\"dataframe\">\n",
              "  <thead>\n",
              "    <tr style=\"text-align: right;\">\n",
              "      <th></th>\n",
              "      <th>0</th>\n",
              "      <th>1</th>\n",
              "      <th>2</th>\n",
              "      <th>3</th>\n",
              "      <th>4</th>\n",
              "    </tr>\n",
              "  </thead>\n",
              "  <tbody>\n",
              "    <tr>\n",
              "      <th>145</th>\n",
              "      <td>6.7</td>\n",
              "      <td>3.0</td>\n",
              "      <td>5.2</td>\n",
              "      <td>2.3</td>\n",
              "      <td>Iris-virginica</td>\n",
              "    </tr>\n",
              "    <tr>\n",
              "      <th>146</th>\n",
              "      <td>6.3</td>\n",
              "      <td>2.5</td>\n",
              "      <td>5.0</td>\n",
              "      <td>1.9</td>\n",
              "      <td>Iris-virginica</td>\n",
              "    </tr>\n",
              "    <tr>\n",
              "      <th>147</th>\n",
              "      <td>6.5</td>\n",
              "      <td>3.0</td>\n",
              "      <td>5.2</td>\n",
              "      <td>2.0</td>\n",
              "      <td>Iris-virginica</td>\n",
              "    </tr>\n",
              "    <tr>\n",
              "      <th>148</th>\n",
              "      <td>6.2</td>\n",
              "      <td>3.4</td>\n",
              "      <td>5.4</td>\n",
              "      <td>2.3</td>\n",
              "      <td>Iris-virginica</td>\n",
              "    </tr>\n",
              "    <tr>\n",
              "      <th>149</th>\n",
              "      <td>5.9</td>\n",
              "      <td>3.0</td>\n",
              "      <td>5.1</td>\n",
              "      <td>1.8</td>\n",
              "      <td>Iris-virginica</td>\n",
              "    </tr>\n",
              "  </tbody>\n",
              "</table>\n",
              "</div>"
            ],
            "text/plain": [
              "       0    1    2    3               4\n",
              "145  6.7  3.0  5.2  2.3  Iris-virginica\n",
              "146  6.3  2.5  5.0  1.9  Iris-virginica\n",
              "147  6.5  3.0  5.2  2.0  Iris-virginica\n",
              "148  6.2  3.4  5.4  2.3  Iris-virginica\n",
              "149  5.9  3.0  5.1  1.8  Iris-virginica"
            ]
          },
          "metadata": {
            "tags": []
          },
          "execution_count": 7
        }
      ]
    },
    {
      "cell_type": "code",
      "metadata": {
        "id": "b_UvjhJ56I99",
        "colab": {
          "base_uri": "https://localhost:8080/",
          "height": 884
        },
        "outputId": "28946039-ea68-402b-d6e2-234f957eee21"
      },
      "source": [
        "#Mostrar las etiquetas de las primeras 50 flores (setosas)\n",
        "#df.iloc[0:50,4]\n",
        "df.iloc[ :50,4]"
      ],
      "execution_count": null,
      "outputs": [
        {
          "output_type": "execute_result",
          "data": {
            "text/plain": [
              "0     Iris-setosa\n",
              "1     Iris-setosa\n",
              "2     Iris-setosa\n",
              "3     Iris-setosa\n",
              "4     Iris-setosa\n",
              "5     Iris-setosa\n",
              "6     Iris-setosa\n",
              "7     Iris-setosa\n",
              "8     Iris-setosa\n",
              "9     Iris-setosa\n",
              "10    Iris-setosa\n",
              "11    Iris-setosa\n",
              "12    Iris-setosa\n",
              "13    Iris-setosa\n",
              "14    Iris-setosa\n",
              "15    Iris-setosa\n",
              "16    Iris-setosa\n",
              "17    Iris-setosa\n",
              "18    Iris-setosa\n",
              "19    Iris-setosa\n",
              "20    Iris-setosa\n",
              "21    Iris-setosa\n",
              "22    Iris-setosa\n",
              "23    Iris-setosa\n",
              "24    Iris-setosa\n",
              "25    Iris-setosa\n",
              "26    Iris-setosa\n",
              "27    Iris-setosa\n",
              "28    Iris-setosa\n",
              "29    Iris-setosa\n",
              "30    Iris-setosa\n",
              "31    Iris-setosa\n",
              "32    Iris-setosa\n",
              "33    Iris-setosa\n",
              "34    Iris-setosa\n",
              "35    Iris-setosa\n",
              "36    Iris-setosa\n",
              "37    Iris-setosa\n",
              "38    Iris-setosa\n",
              "39    Iris-setosa\n",
              "40    Iris-setosa\n",
              "41    Iris-setosa\n",
              "42    Iris-setosa\n",
              "43    Iris-setosa\n",
              "44    Iris-setosa\n",
              "45    Iris-setosa\n",
              "46    Iris-setosa\n",
              "47    Iris-setosa\n",
              "48    Iris-setosa\n",
              "49    Iris-setosa\n",
              "Name: 4, dtype: object"
            ]
          },
          "metadata": {
            "tags": []
          },
          "execution_count": 9
        }
      ]
    },
    {
      "cell_type": "code",
      "metadata": {
        "id": "i-Aa4mqg6ux8",
        "colab": {
          "base_uri": "https://localhost:8080/",
          "height": 884
        },
        "outputId": "ae08c98d-c1a5-47dd-c902-a46e222e931e"
      },
      "source": [
        "#Mostrar las etiquetas de las siguientes 50 flores (versicolor)\n",
        "df.iloc[50:100,4]"
      ],
      "execution_count": null,
      "outputs": [
        {
          "output_type": "execute_result",
          "data": {
            "text/plain": [
              "50    Iris-versicolor\n",
              "51    Iris-versicolor\n",
              "52    Iris-versicolor\n",
              "53    Iris-versicolor\n",
              "54    Iris-versicolor\n",
              "55    Iris-versicolor\n",
              "56    Iris-versicolor\n",
              "57    Iris-versicolor\n",
              "58    Iris-versicolor\n",
              "59    Iris-versicolor\n",
              "60    Iris-versicolor\n",
              "61    Iris-versicolor\n",
              "62    Iris-versicolor\n",
              "63    Iris-versicolor\n",
              "64    Iris-versicolor\n",
              "65    Iris-versicolor\n",
              "66    Iris-versicolor\n",
              "67    Iris-versicolor\n",
              "68    Iris-versicolor\n",
              "69    Iris-versicolor\n",
              "70    Iris-versicolor\n",
              "71    Iris-versicolor\n",
              "72    Iris-versicolor\n",
              "73    Iris-versicolor\n",
              "74    Iris-versicolor\n",
              "75    Iris-versicolor\n",
              "76    Iris-versicolor\n",
              "77    Iris-versicolor\n",
              "78    Iris-versicolor\n",
              "79    Iris-versicolor\n",
              "80    Iris-versicolor\n",
              "81    Iris-versicolor\n",
              "82    Iris-versicolor\n",
              "83    Iris-versicolor\n",
              "84    Iris-versicolor\n",
              "85    Iris-versicolor\n",
              "86    Iris-versicolor\n",
              "87    Iris-versicolor\n",
              "88    Iris-versicolor\n",
              "89    Iris-versicolor\n",
              "90    Iris-versicolor\n",
              "91    Iris-versicolor\n",
              "92    Iris-versicolor\n",
              "93    Iris-versicolor\n",
              "94    Iris-versicolor\n",
              "95    Iris-versicolor\n",
              "96    Iris-versicolor\n",
              "97    Iris-versicolor\n",
              "98    Iris-versicolor\n",
              "99    Iris-versicolor\n",
              "Name: 4, dtype: object"
            ]
          },
          "metadata": {
            "tags": []
          },
          "execution_count": 10
        }
      ]
    },
    {
      "cell_type": "code",
      "metadata": {
        "id": "srN-uMto7DfO",
        "colab": {
          "base_uri": "https://localhost:8080/",
          "height": 884
        },
        "outputId": "9268e3a1-c669-450c-e88a-caeac3925289"
      },
      "source": [
        "#Mostrar las etiquetas de las siguientes 50 flores (virginica)\n",
        "#df.iloc[100:150,4]\n",
        "df.iloc[100:,4]"
      ],
      "execution_count": null,
      "outputs": [
        {
          "output_type": "execute_result",
          "data": {
            "text/plain": [
              "100    Iris-virginica\n",
              "101    Iris-virginica\n",
              "102    Iris-virginica\n",
              "103    Iris-virginica\n",
              "104    Iris-virginica\n",
              "105    Iris-virginica\n",
              "106    Iris-virginica\n",
              "107    Iris-virginica\n",
              "108    Iris-virginica\n",
              "109    Iris-virginica\n",
              "110    Iris-virginica\n",
              "111    Iris-virginica\n",
              "112    Iris-virginica\n",
              "113    Iris-virginica\n",
              "114    Iris-virginica\n",
              "115    Iris-virginica\n",
              "116    Iris-virginica\n",
              "117    Iris-virginica\n",
              "118    Iris-virginica\n",
              "119    Iris-virginica\n",
              "120    Iris-virginica\n",
              "121    Iris-virginica\n",
              "122    Iris-virginica\n",
              "123    Iris-virginica\n",
              "124    Iris-virginica\n",
              "125    Iris-virginica\n",
              "126    Iris-virginica\n",
              "127    Iris-virginica\n",
              "128    Iris-virginica\n",
              "129    Iris-virginica\n",
              "130    Iris-virginica\n",
              "131    Iris-virginica\n",
              "132    Iris-virginica\n",
              "133    Iris-virginica\n",
              "134    Iris-virginica\n",
              "135    Iris-virginica\n",
              "136    Iris-virginica\n",
              "137    Iris-virginica\n",
              "138    Iris-virginica\n",
              "139    Iris-virginica\n",
              "140    Iris-virginica\n",
              "141    Iris-virginica\n",
              "142    Iris-virginica\n",
              "143    Iris-virginica\n",
              "144    Iris-virginica\n",
              "145    Iris-virginica\n",
              "146    Iris-virginica\n",
              "147    Iris-virginica\n",
              "148    Iris-virginica\n",
              "149    Iris-virginica\n",
              "Name: 4, dtype: object"
            ]
          },
          "metadata": {
            "tags": []
          },
          "execution_count": 11
        }
      ]
    },
    {
      "cell_type": "markdown",
      "metadata": {
        "id": "s8NKMbXM4n21"
      },
      "source": [
        "Ahora, procederemos a extraer las 100 primeras etiquetas de la base de datos Iris, donde de estas 100 etiquetas, las 50 primeras etiquetas corresponden a la flor Iris-Setosa y las 50 etiquetas restantes a la flor Iris-Versicolor. A las etiquetas de la flor Iris-Versicolor las representaremos con el 1 y las de la flor Iris-Setosa, con el -1. Además, vamos a extraer la columa 1 (longitud del sépalo) y la columna 3 (longitud del pétalo) de los 100 datos en cuestión y los almacenaremos en una matriz X, la cual podremos visualizar mediante una gráfica de dispersión."
      ]
    },
    {
      "cell_type": "code",
      "metadata": {
        "id": "phpMKf4-8DSE",
        "colab": {
          "base_uri": "https://localhost:8080/",
          "height": 1000
        },
        "outputId": "f98c5acb-f62d-42be-d62c-e51a8bd36dea"
      },
      "source": [
        "#Para evitar que las gráficas aparezcan fuera de nuestro bloc de notas actual\n",
        "import matplotlib.pyplot as plt #Graficar\n",
        "import numpy as np #Para trabajar con arreglos\n",
        "\n",
        "#Seleccionamos las etiquetas correspondientes a los 100 primeros datos (Iris-Setosa e Iris-Versicolor)\n",
        "y = df.iloc[0:100,4].values #.values permite convertir un dataframe de pandas en un arreglo numpy\n",
        "print(y)\n",
        "y = np.where(y == 'Iris-setosa', -1, 1)\n",
        "print(y)\n",
        "X = df.iloc[0:100, [0, 2]].values\n",
        "print(\"X = \\n\",X)"
      ],
      "execution_count": null,
      "outputs": [
        {
          "output_type": "stream",
          "text": [
            "['Iris-setosa' 'Iris-setosa' 'Iris-setosa' 'Iris-setosa' 'Iris-setosa'\n",
            " 'Iris-setosa' 'Iris-setosa' 'Iris-setosa' 'Iris-setosa' 'Iris-setosa'\n",
            " 'Iris-setosa' 'Iris-setosa' 'Iris-setosa' 'Iris-setosa' 'Iris-setosa'\n",
            " 'Iris-setosa' 'Iris-setosa' 'Iris-setosa' 'Iris-setosa' 'Iris-setosa'\n",
            " 'Iris-setosa' 'Iris-setosa' 'Iris-setosa' 'Iris-setosa' 'Iris-setosa'\n",
            " 'Iris-setosa' 'Iris-setosa' 'Iris-setosa' 'Iris-setosa' 'Iris-setosa'\n",
            " 'Iris-setosa' 'Iris-setosa' 'Iris-setosa' 'Iris-setosa' 'Iris-setosa'\n",
            " 'Iris-setosa' 'Iris-setosa' 'Iris-setosa' 'Iris-setosa' 'Iris-setosa'\n",
            " 'Iris-setosa' 'Iris-setosa' 'Iris-setosa' 'Iris-setosa' 'Iris-setosa'\n",
            " 'Iris-setosa' 'Iris-setosa' 'Iris-setosa' 'Iris-setosa' 'Iris-setosa'\n",
            " 'Iris-versicolor' 'Iris-versicolor' 'Iris-versicolor' 'Iris-versicolor'\n",
            " 'Iris-versicolor' 'Iris-versicolor' 'Iris-versicolor' 'Iris-versicolor'\n",
            " 'Iris-versicolor' 'Iris-versicolor' 'Iris-versicolor' 'Iris-versicolor'\n",
            " 'Iris-versicolor' 'Iris-versicolor' 'Iris-versicolor' 'Iris-versicolor'\n",
            " 'Iris-versicolor' 'Iris-versicolor' 'Iris-versicolor' 'Iris-versicolor'\n",
            " 'Iris-versicolor' 'Iris-versicolor' 'Iris-versicolor' 'Iris-versicolor'\n",
            " 'Iris-versicolor' 'Iris-versicolor' 'Iris-versicolor' 'Iris-versicolor'\n",
            " 'Iris-versicolor' 'Iris-versicolor' 'Iris-versicolor' 'Iris-versicolor'\n",
            " 'Iris-versicolor' 'Iris-versicolor' 'Iris-versicolor' 'Iris-versicolor'\n",
            " 'Iris-versicolor' 'Iris-versicolor' 'Iris-versicolor' 'Iris-versicolor'\n",
            " 'Iris-versicolor' 'Iris-versicolor' 'Iris-versicolor' 'Iris-versicolor'\n",
            " 'Iris-versicolor' 'Iris-versicolor' 'Iris-versicolor' 'Iris-versicolor'\n",
            " 'Iris-versicolor' 'Iris-versicolor']\n",
            "[-1 -1 -1 -1 -1 -1 -1 -1 -1 -1 -1 -1 -1 -1 -1 -1 -1 -1 -1 -1 -1 -1 -1 -1\n",
            " -1 -1 -1 -1 -1 -1 -1 -1 -1 -1 -1 -1 -1 -1 -1 -1 -1 -1 -1 -1 -1 -1 -1 -1\n",
            " -1 -1  1  1  1  1  1  1  1  1  1  1  1  1  1  1  1  1  1  1  1  1  1  1\n",
            "  1  1  1  1  1  1  1  1  1  1  1  1  1  1  1  1  1  1  1  1  1  1  1  1\n",
            "  1  1  1  1]\n",
            "X = \n",
            " [[5.1 1.4]\n",
            " [4.9 1.4]\n",
            " [4.7 1.3]\n",
            " [4.6 1.5]\n",
            " [5.  1.4]\n",
            " [5.4 1.7]\n",
            " [4.6 1.4]\n",
            " [5.  1.5]\n",
            " [4.4 1.4]\n",
            " [4.9 1.5]\n",
            " [5.4 1.5]\n",
            " [4.8 1.6]\n",
            " [4.8 1.4]\n",
            " [4.3 1.1]\n",
            " [5.8 1.2]\n",
            " [5.7 1.5]\n",
            " [5.4 1.3]\n",
            " [5.1 1.4]\n",
            " [5.7 1.7]\n",
            " [5.1 1.5]\n",
            " [5.4 1.7]\n",
            " [5.1 1.5]\n",
            " [4.6 1. ]\n",
            " [5.1 1.7]\n",
            " [4.8 1.9]\n",
            " [5.  1.6]\n",
            " [5.  1.6]\n",
            " [5.2 1.5]\n",
            " [5.2 1.4]\n",
            " [4.7 1.6]\n",
            " [4.8 1.6]\n",
            " [5.4 1.5]\n",
            " [5.2 1.5]\n",
            " [5.5 1.4]\n",
            " [4.9 1.5]\n",
            " [5.  1.2]\n",
            " [5.5 1.3]\n",
            " [4.9 1.5]\n",
            " [4.4 1.3]\n",
            " [5.1 1.5]\n",
            " [5.  1.3]\n",
            " [4.5 1.3]\n",
            " [4.4 1.3]\n",
            " [5.  1.6]\n",
            " [5.1 1.9]\n",
            " [4.8 1.4]\n",
            " [5.1 1.6]\n",
            " [4.6 1.4]\n",
            " [5.3 1.5]\n",
            " [5.  1.4]\n",
            " [7.  4.7]\n",
            " [6.4 4.5]\n",
            " [6.9 4.9]\n",
            " [5.5 4. ]\n",
            " [6.5 4.6]\n",
            " [5.7 4.5]\n",
            " [6.3 4.7]\n",
            " [4.9 3.3]\n",
            " [6.6 4.6]\n",
            " [5.2 3.9]\n",
            " [5.  3.5]\n",
            " [5.9 4.2]\n",
            " [6.  4. ]\n",
            " [6.1 4.7]\n",
            " [5.6 3.6]\n",
            " [6.7 4.4]\n",
            " [5.6 4.5]\n",
            " [5.8 4.1]\n",
            " [6.2 4.5]\n",
            " [5.6 3.9]\n",
            " [5.9 4.8]\n",
            " [6.1 4. ]\n",
            " [6.3 4.9]\n",
            " [6.1 4.7]\n",
            " [6.4 4.3]\n",
            " [6.6 4.4]\n",
            " [6.8 4.8]\n",
            " [6.7 5. ]\n",
            " [6.  4.5]\n",
            " [5.7 3.5]\n",
            " [5.5 3.8]\n",
            " [5.5 3.7]\n",
            " [5.8 3.9]\n",
            " [6.  5.1]\n",
            " [5.4 4.5]\n",
            " [6.  4.5]\n",
            " [6.7 4.7]\n",
            " [6.3 4.4]\n",
            " [5.6 4.1]\n",
            " [5.5 4. ]\n",
            " [5.5 4.4]\n",
            " [6.1 4.6]\n",
            " [5.8 4. ]\n",
            " [5.  3.3]\n",
            " [5.6 4.2]\n",
            " [5.7 4.2]\n",
            " [5.7 4.2]\n",
            " [6.2 4.3]\n",
            " [5.1 3. ]\n",
            " [5.7 4.1]]\n"
          ],
          "name": "stdout"
        }
      ]
    },
    {
      "cell_type": "code",
      "metadata": {
        "id": "-e4pKmOw5jLd",
        "colab": {
          "base_uri": "https://localhost:8080/",
          "height": 280
        },
        "outputId": "70c9cca2-690a-4e19-bff3-258f60282643"
      },
      "source": [
        "#%matplotlib inline \n",
        "#Para evitar que las gráficas aparezcan fuera de nuestro bloc de notas actual\n",
        "import matplotlib.pyplot as plt #Graficar\n",
        "import numpy as np #Para trabajar con arreglos\n",
        "\n",
        "#Seleccionamos las etiquetas correspondientes a los 100 primeros datos (Iris-Setosa e Iris-Versicolor)\n",
        "y = df.iloc[0:100,4].values #.values permite convertir un dataframe de pandas en un arreglo numpy\n",
        "#print(y)\n",
        "y = np.where(y == 'Iris-setosa', -1, 1) #.where permite localizar elementos específicos dentro del arreglo\n",
        "#print(y)\n",
        "\n",
        "#Extraemos los atributos correspondientes a la longitud del sépalo y del pétalo\n",
        "X = df.iloc[0:100, [0, 2]].values\n",
        "#print(X)\n",
        "\n",
        "#X -> Nuestra base de datos que almacena los atributos\n",
        "#y -> Las etiquetas o clases de las instancias (dato) de la base de datos (-1, 1)\n",
        "\n",
        "#Graficar nuestros datos\n",
        "#Gráfica de dispersión\n",
        "\n",
        "plt.scatter(X[:50, 0], X[:50, 1], color = 'red', marker = 'o', label='setosa')\n",
        "plt.scatter(X[50:100, 0], X[50:100, 1], color = 'blue', marker = 'x', label='versicolor')\n",
        "\n",
        "plt.xlabel('longitud del sépalo [cm]')\n",
        "plt.ylabel('longitud del pétalo [cm]')\n",
        "plt.legend(loc='upper left')\n",
        "\n",
        "plt.show()"
      ],
      "execution_count": null,
      "outputs": [
        {
          "output_type": "display_data",
          "data": {
            "image/png": "[encoded data removed]",
            "text/plain": [
              "<Figure size 432x288 with 1 Axes>"
            ]
          },
          "metadata": {
            "tags": [],
            "needs_background": "light"
          }
        }
      ]
    },
    {
      "cell_type": "code",
      "metadata": {
        "id": "I5v5oIxgDqga",
        "colab": {
          "base_uri": "https://localhost:8080/",
          "height": 34
        },
        "outputId": "79058c44-5f27-4ee5-e6e4-2e4771dc5292"
      },
      "source": [
        "print(X.shape)"
      ],
      "execution_count": null,
      "outputs": [
        {
          "output_type": "stream",
          "text": [
            "(100, 2)\n"
          ],
          "name": "stdout"
        }
      ]
    },
    {
      "cell_type": "code",
      "metadata": {
        "id": "Ed8KO6FdDwDP",
        "colab": {
          "base_uri": "https://localhost:8080/",
          "height": 34
        },
        "outputId": "a647497d-898f-4eca-acdd-e76f6477f3d9"
      },
      "source": [
        "X.shape[1]"
      ],
      "execution_count": null,
      "outputs": [
        {
          "output_type": "execute_result",
          "data": {
            "text/plain": [
              "2"
            ]
          },
          "metadata": {
            "tags": []
          },
          "execution_count": 20
        }
      ]
    },
    {
      "cell_type": "code",
      "metadata": {
        "id": "Y9NOkMTSEUjD",
        "colab": {
          "base_uri": "https://localhost:8080/",
          "height": 102
        },
        "outputId": "16c25787-cd02-40b9-e90d-5ab4c905be68"
      },
      "source": [
        "for d in range(5):\n",
        "  print(d)"
      ],
      "execution_count": null,
      "outputs": [
        {
          "output_type": "stream",
          "text": [
            "0\n",
            "1\n",
            "2\n",
            "3\n",
            "4\n"
          ],
          "name": "stdout"
        }
      ]
    },
    {
      "cell_type": "code",
      "metadata": {
        "id": "f45lUy09Ei6b",
        "colab": {
          "base_uri": "https://localhost:8080/",
          "height": 102
        },
        "outputId": "587988da-d5d3-4283-e649-07ccfac7f938"
      },
      "source": [
        "for _ in range(5):\n",
        "  print(\"Prueba\")"
      ],
      "execution_count": null,
      "outputs": [
        {
          "output_type": "stream",
          "text": [
            "Prueba\n",
            "Prueba\n",
            "Prueba\n",
            "Prueba\n",
            "Prueba\n"
          ],
          "name": "stdout"
        }
      ]
    },
    {
      "cell_type": "code",
      "metadata": {
        "id": "3GsorBHVFXCE",
        "colab": {
          "base_uri": "https://localhost:8080/",
          "height": 1000
        },
        "outputId": "9fc99e74-9698-47a0-bea8-f0d9e8830824"
      },
      "source": [
        "for xi, target in zip(X, y):\n",
        "  print(\"xi: \",xi)\n",
        "  print(\"target: \", target)"
      ],
      "execution_count": null,
      "outputs": [
        {
          "output_type": "stream",
          "text": [
            "xi:  [5.1 1.4]\n",
            "target:  -1\n",
            "xi:  [4.9 1.4]\n",
            "target:  -1\n",
            "xi:  [4.7 1.3]\n",
            "target:  -1\n",
            "xi:  [4.6 1.5]\n",
            "target:  -1\n",
            "xi:  [5.  1.4]\n",
            "target:  -1\n",
            "xi:  [5.4 1.7]\n",
            "target:  -1\n",
            "xi:  [4.6 1.4]\n",
            "target:  -1\n",
            "xi:  [5.  1.5]\n",
            "target:  -1\n",
            "xi:  [4.4 1.4]\n",
            "target:  -1\n",
            "xi:  [4.9 1.5]\n",
            "target:  -1\n",
            "xi:  [5.4 1.5]\n",
            "target:  -1\n",
            "xi:  [4.8 1.6]\n",
            "target:  -1\n",
            "xi:  [4.8 1.4]\n",
            "target:  -1\n",
            "xi:  [4.3 1.1]\n",
            "target:  -1\n",
            "xi:  [5.8 1.2]\n",
            "target:  -1\n",
            "xi:  [5.7 1.5]\n",
            "target:  -1\n",
            "xi:  [5.4 1.3]\n",
            "target:  -1\n",
            "xi:  [5.1 1.4]\n",
            "target:  -1\n",
            "xi:  [5.7 1.7]\n",
            "target:  -1\n",
            "xi:  [5.1 1.5]\n",
            "target:  -1\n",
            "xi:  [5.4 1.7]\n",
            "target:  -1\n",
            "xi:  [5.1 1.5]\n",
            "target:  -1\n",
            "xi:  [4.6 1. ]\n",
            "target:  -1\n",
            "xi:  [5.1 1.7]\n",
            "target:  -1\n",
            "xi:  [4.8 1.9]\n",
            "target:  -1\n",
            "xi:  [5.  1.6]\n",
            "target:  -1\n",
            "xi:  [5.  1.6]\n",
            "target:  -1\n",
            "xi:  [5.2 1.5]\n",
            "target:  -1\n",
            "xi:  [5.2 1.4]\n",
            "target:  -1\n",
            "xi:  [4.7 1.6]\n",
            "target:  -1\n",
            "xi:  [4.8 1.6]\n",
            "target:  -1\n",
            "xi:  [5.4 1.5]\n",
            "target:  -1\n",
            "xi:  [5.2 1.5]\n",
            "target:  -1\n",
            "xi:  [5.5 1.4]\n",
            "target:  -1\n",
            "xi:  [4.9 1.5]\n",
            "target:  -1\n",
            "xi:  [5.  1.2]\n",
            "target:  -1\n",
            "xi:  [5.5 1.3]\n",
            "target:  -1\n",
            "xi:  [4.9 1.5]\n",
            "target:  -1\n",
            "xi:  [4.4 1.3]\n",
            "target:  -1\n",
            "xi:  [5.1 1.5]\n",
            "target:  -1\n",
            "xi:  [5.  1.3]\n",
            "target:  -1\n",
            "xi:  [4.5 1.3]\n",
            "target:  -1\n",
            "xi:  [4.4 1.3]\n",
            "target:  -1\n",
            "xi:  [5.  1.6]\n",
            "target:  -1\n",
            "xi:  [5.1 1.9]\n",
            "target:  -1\n",
            "xi:  [4.8 1.4]\n",
            "target:  -1\n",
            "xi:  [5.1 1.6]\n",
            "target:  -1\n",
            "xi:  [4.6 1.4]\n",
            "target:  -1\n",
            "xi:  [5.3 1.5]\n",
            "target:  -1\n",
            "xi:  [5.  1.4]\n",
            "target:  -1\n",
            "xi:  [7.  4.7]\n",
            "target:  1\n",
            "xi:  [6.4 4.5]\n",
            "target:  1\n",
            "xi:  [6.9 4.9]\n",
            "target:  1\n",
            "xi:  [5.5 4. ]\n",
            "target:  1\n",
            "xi:  [6.5 4.6]\n",
            "target:  1\n",
            "xi:  [5.7 4.5]\n",
            "target:  1\n",
            "xi:  [6.3 4.7]\n",
            "target:  1\n",
            "xi:  [4.9 3.3]\n",
            "target:  1\n",
            "xi:  [6.6 4.6]\n",
            "target:  1\n",
            "xi:  [5.2 3.9]\n",
            "target:  1\n",
            "xi:  [5.  3.5]\n",
            "target:  1\n",
            "xi:  [5.9 4.2]\n",
            "target:  1\n",
            "xi:  [6. 4.]\n",
            "target:  1\n",
            "xi:  [6.1 4.7]\n",
            "target:  1\n",
            "xi:  [5.6 3.6]\n",
            "target:  1\n",
            "xi:  [6.7 4.4]\n",
            "target:  1\n",
            "xi:  [5.6 4.5]\n",
            "target:  1\n",
            "xi:  [5.8 4.1]\n",
            "target:  1\n",
            "xi:  [6.2 4.5]\n",
            "target:  1\n",
            "xi:  [5.6 3.9]\n",
            "target:  1\n",
            "xi:  [5.9 4.8]\n",
            "target:  1\n",
            "xi:  [6.1 4. ]\n",
            "target:  1\n",
            "xi:  [6.3 4.9]\n",
            "target:  1\n",
            "xi:  [6.1 4.7]\n",
            "target:  1\n",
            "xi:  [6.4 4.3]\n",
            "target:  1\n",
            "xi:  [6.6 4.4]\n",
            "target:  1\n",
            "xi:  [6.8 4.8]\n",
            "target:  1\n",
            "xi:  [6.7 5. ]\n",
            "target:  1\n",
            "xi:  [6.  4.5]\n",
            "target:  1\n",
            "xi:  [5.7 3.5]\n",
            "target:  1\n",
            "xi:  [5.5 3.8]\n",
            "target:  1\n",
            "xi:  [5.5 3.7]\n",
            "target:  1\n",
            "xi:  [5.8 3.9]\n",
            "target:  1\n",
            "xi:  [6.  5.1]\n",
            "target:  1\n",
            "xi:  [5.4 4.5]\n",
            "target:  1\n",
            "xi:  [6.  4.5]\n",
            "target:  1\n",
            "xi:  [6.7 4.7]\n",
            "target:  1\n",
            "xi:  [6.3 4.4]\n",
            "target:  1\n",
            "xi:  [5.6 4.1]\n",
            "target:  1\n",
            "xi:  [5.5 4. ]\n",
            "target:  1\n",
            "xi:  [5.5 4.4]\n",
            "target:  1\n",
            "xi:  [6.1 4.6]\n",
            "target:  1\n",
            "xi:  [5.8 4. ]\n",
            "target:  1\n",
            "xi:  [5.  3.3]\n",
            "target:  1\n",
            "xi:  [5.6 4.2]\n",
            "target:  1\n",
            "xi:  [5.7 4.2]\n",
            "target:  1\n",
            "xi:  [5.7 4.2]\n",
            "target:  1\n",
            "xi:  [6.2 4.3]\n",
            "target:  1\n",
            "xi:  [5.1 3. ]\n",
            "target:  1\n",
            "xi:  [5.7 4.1]\n",
            "target:  1\n"
          ],
          "name": "stdout"
        }
      ]
    },
    {
      "cell_type": "code",
      "metadata": {
        "id": "qAZKcPFSMXOB",
        "colab": {
          "base_uri": "https://localhost:8080/",
          "height": 34
        },
        "outputId": "12009e2d-9732-4dba-a6a0-8f0d6e5821bd"
      },
      "source": [
        "resultado = int((0 - 1) != 0.0)\n",
        "print(resultado)"
      ],
      "execution_count": null,
      "outputs": [
        {
          "output_type": "stream",
          "text": [
            "1\n"
          ],
          "name": "stdout"
        }
      ]
    },
    {
      "cell_type": "code",
      "metadata": {
        "id": "dQZpncyPOCs_",
        "colab": {
          "base_uri": "https://localhost:8080/",
          "height": 34
        },
        "outputId": "da00cac3-7afc-4902-c8cf-0270eca241af"
      },
      "source": [
        "lista1 = []\n",
        "lista1.append(5)\n",
        "print(lista1)"
      ],
      "execution_count": null,
      "outputs": [
        {
          "output_type": "stream",
          "text": [
            "[5]\n"
          ],
          "name": "stdout"
        }
      ]
    },
    {
      "cell_type": "code",
      "metadata": {
        "id": "ketqU0bKONsV",
        "colab": {
          "base_uri": "https://localhost:8080/",
          "height": 34
        },
        "outputId": "01bf156b-2247-4baf-ee8a-763ce01066ac"
      },
      "source": [
        "lista1.append(12)\n",
        "print(lista1)"
      ],
      "execution_count": null,
      "outputs": [
        {
          "output_type": "stream",
          "text": [
            "[5, 12]\n"
          ],
          "name": "stdout"
        }
      ]
    },
    {
      "cell_type": "markdown",
      "metadata": {
        "id": "qkIfYQfVDrQb"
      },
      "source": [
        "# **Clase perceptrón**"
      ]
    },
    {
      "cell_type": "code",
      "metadata": {
        "id": "ctsxP9WSDqlc"
      },
      "source": [
        "class Perceptron(object):\n",
        "\n",
        "  \"\"\"\n",
        "  Clasificador Perceptrón\n",
        "\n",
        "  Hiperparámetros:\n",
        "\n",
        "  eta : Tasa de aprendizaje (con valores entre 0.0 y 1.0). Es de tipo float.\n",
        "\n",
        "  epochs : Número de veces que se itera sobre la base de datos. Es de tipo int.\n",
        "\n",
        "  seed : Semilla aleatoria que permitirá inicializar los pesos aleatoriamente. Es de tipo int.\n",
        "\n",
        "\n",
        "  Parámetros:\n",
        "\n",
        "  w: Pesos. Es un vector de dos dimensiones de tipo float.\n",
        "  \n",
        "  b: Bias. Es un vector con un solo elemento. Es de tipo float.\n",
        "\n",
        "\n",
        "  Otras variables:\n",
        "  errors : Lista de tipo int\n",
        "    Nos permite llevar un seguimiento del número de errores en cada época\n",
        "\n",
        "  \"\"\"\n",
        "  def __init__(self, eta = 0.01, epochs = 50, seed = 1):\n",
        "    self.eta = eta\n",
        "    self.epochs = epochs\n",
        "    self.seed = seed\n",
        "\n",
        "  def fit(self, X, y): #fit -> ajustar, entrenar\n",
        "    \"\"\" Fase de entrenamiento de la red neuronal\n",
        "\n",
        "    X: Es un arreglo que almacena la base de datos Iris, y, por lo tanto, sus dimensiones son [número de muestras, número de atributos]\n",
        "    y: Es un vector que almacena las etiquetas o clases de cada flor de la base de datos X, y, por lo tanto, su dimensión es [número de muestras]\n",
        "    \"\"\"\n",
        "\n",
        "    rgen = np.random.RandomState(self.seed) #Permite generar valores aleatorios\n",
        "    self.w = rgen.normal(loc = 0.0, scale=0.01, size = X.shape[1]) #Lista con dos elementos\n",
        "    self.b = rgen.normal(loc = 0.0, scale=0.01, size = 1) #Lista con un elemento\n",
        "    self.errors = [] #Lista vacía, la cual nos permitirá almacenar el número de errores por época\n",
        "  \n",
        "    for _ in range(self.epochs): #Criterio de paro\n",
        "      errors = 0\n",
        "      for xi, target in zip(X, y):\n",
        "        #Fórmula que permite encontrar Δb. Para obtener Δw, basta con multiplicar esta fórmula por los atributos del dato de entrada, xi\n",
        "        update = self.eta * (target - self.predict(xi))\n",
        "        #Fórmula para actualizar los pesos\n",
        "        self.w[:] = self.w[:] + update * xi \n",
        "        #Fórmula para actualizar el bias\n",
        "        self.b = self.b + update\n",
        "        #Expresión que nos permite determinar si en esta iteración en particular, existe un error.\n",
        "        errors = errors + int((target - self.predict(xi)) != 0.0)\n",
        "      self.errors.append(errors)\n",
        "\n",
        "    #return self #Fin de la función fit\n",
        "\n",
        "  def net_input(self, X):\n",
        "    #Calculamos la entrada neta\n",
        "    z = np.dot(X, self.w[:]) + self.b\n",
        "    return z\n",
        "\n",
        "    \n",
        "  def predict(self, X):#Función de activación - Salida del perceptrón\n",
        "    #Realizamos la predicción\n",
        "    return np.where(self.net_input(X) >= 0.0, 1, -1)"
      ],
      "execution_count": null,
      "outputs": []
    },
    {
      "cell_type": "code",
      "metadata": {
        "id": "qlqIMxWbQ9zT",
        "colab": {
          "base_uri": "https://localhost:8080/",
          "height": 315
        },
        "outputId": "599b1e9c-e49c-4d5f-cf24-f98c86e8ddba"
      },
      "source": [
        "#Instanciación del objeto Perceptrón\n",
        "percep = Perceptron(eta=0.001, epochs=10)\n",
        "\n",
        "percep.fit(X, y)\n",
        "print(percep.errors)\n",
        "plt.plot(range(1, 10 + 1), percep.errors, marker = 'o') #len -> permite obtener longitud/tamaño de listas\n",
        "plt.xlabel(\"Épocas\")\n",
        "plt.ylabel(\"Número de actualizaciones/errores\")"
      ],
      "execution_count": null,
      "outputs": [
        {
          "output_type": "stream",
          "text": [
            "[1, 0, 1, 0, 1, 0, 0, 0, 0, 0]\n"
          ],
          "name": "stdout"
        },
        {
          "output_type": "execute_result",
          "data": {
            "text/plain": [
              "Text(0, 0.5, 'Número de actualizaciones/errores')"
            ]
          },
          "metadata": {
            "tags": []
          },
          "execution_count": 52
        },
        {
          "output_type": "display_data",
          "data": {
            "image/png": "[encoded data removed]",
            "text/plain": [
              "<Figure size 432x288 with 1 Axes>"
            ]
          },
          "metadata": {
            "tags": [],
            "needs_background": "light"
          }
        }
      ]
    },
    {
      "cell_type": "code",
      "metadata": {
        "id": "dXbHygYvVMyc"
      },
      "source": [
        "from matplotlib.colors import ListedColormap\n",
        "\n",
        "\n",
        "def plot_decision_regions(X, y, classifier, resolution=0.02):\n",
        "\n",
        "    # establecemos los marcadores y colores que se pueden utilizar\n",
        "    markers = ('s', 'x', 'o', '^', 'v')\n",
        "    colors = ('red', 'blue', 'lightgreen', 'gray', 'cyan')\n",
        "    cmap = ListedColormap(colors[:len(np.unique(y))])\n",
        "\n",
        "    # graficamos la frontera de decisión\n",
        "    x1_min, x1_max = X[:, 0].min() - 1, X[:, 0].max() + 1\n",
        "    x2_min, x2_max = X[:, 1].min() - 1, X[:, 1].max() + 1\n",
        "    xx1, xx2 = np.meshgrid(np.arange(x1_min, x1_max, resolution),\n",
        "                           np.arange(x2_min, x2_max, resolution))\n",
        "    Z = classifier.predict(np.array([xx1.ravel(), xx2.ravel()]).T)\n",
        "    Z = Z.reshape(xx1.shape)\n",
        "    plt.contourf(xx1, xx2, Z, alpha=0.3, cmap=cmap) #alpha -> proporción de transparencia\n",
        "    plt.xlim(xx1.min(), xx1.max())\n",
        "    plt.ylim(xx2.min(), xx2.max())\n",
        "\n",
        "    # Graficamos los datos de nuestra base de datos\n",
        "    for idx, cl in enumerate(np.unique(y)):\n",
        "        plt.scatter(x=X[y == cl, 0], \n",
        "                    y=X[y == cl, 1],\n",
        "                    alpha=0.8, \n",
        "                    c=colors[idx],\n",
        "                    marker=markers[idx], \n",
        "                    label=cl, \n",
        "                    edgecolor='black')"
      ],
      "execution_count": null,
      "outputs": []
    },
    {
      "cell_type": "code",
      "metadata": {
        "id": "8BHM_F9GVO1y",
        "colab": {
          "base_uri": "https://localhost:8080/",
          "height": 280
        },
        "outputId": "14261d16-8287-4c09-9cf8-43652610c751"
      },
      "source": [
        "plot_decision_regions(X, y, classifier=percep)\n",
        "plt.xlabel('sepal length [cm]')\n",
        "plt.ylabel('petal length [cm]')\n",
        "plt.legend(loc='upper left')\n",
        "\n",
        "plt.show()"
      ],
      "execution_count": null,
      "outputs": [
        {
          "output_type": "display_data",
          "data": {
            "image/png": "[encoded data removed]",
            "text/plain": [
              "<Figure size 432x288 with 1 Axes>"
            ]
          },
          "metadata": {
            "tags": [],
            "needs_background": "light"
          }
        }
      ]
    }
  ]
}